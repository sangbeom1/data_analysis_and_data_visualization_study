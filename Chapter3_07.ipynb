{
 "cells": [
  {
   "cell_type": "markdown",
   "metadata": {},
   "source": [
    "# 네이버 주가 데이터 실습"
   ]
  },
  {
   "cell_type": "markdown",
   "metadata": {},
   "source": [
    "## Import data"
   ]
  },
  {
   "cell_type": "code",
   "execution_count": 1,
   "metadata": {},
   "outputs": [
    {
     "data": {
      "text/html": [
       "<div>\n",
       "<style scoped>\n",
       "    .dataframe tbody tr th:only-of-type {\n",
       "        vertical-align: middle;\n",
       "    }\n",
       "\n",
       "    .dataframe tbody tr th {\n",
       "        vertical-align: top;\n",
       "    }\n",
       "\n",
       "    .dataframe thead th {\n",
       "        text-align: right;\n",
       "    }\n",
       "</style>\n",
       "<table border=\"1\" class=\"dataframe\">\n",
       "  <thead>\n",
       "    <tr style=\"text-align: right;\">\n",
       "      <th></th>\n",
       "      <th>날짜</th>\n",
       "      <th>종가</th>\n",
       "      <th>전일비</th>\n",
       "      <th>시가</th>\n",
       "      <th>고가</th>\n",
       "      <th>저가</th>\n",
       "      <th>거래량</th>\n",
       "    </tr>\n",
       "  </thead>\n",
       "  <tbody>\n",
       "    <tr>\n",
       "      <th>0</th>\n",
       "      <td>2020.01.02</td>\n",
       "      <td>182500.0</td>\n",
       "      <td>4000.0</td>\n",
       "      <td>187500.0</td>\n",
       "      <td>188000.0</td>\n",
       "      <td>182000.0</td>\n",
       "      <td>300640.0</td>\n",
       "    </tr>\n",
       "    <tr>\n",
       "      <th>1</th>\n",
       "      <td>2020.01.03</td>\n",
       "      <td>181500.0</td>\n",
       "      <td>1000.0</td>\n",
       "      <td>185000.0</td>\n",
       "      <td>186000.0</td>\n",
       "      <td>180500.0</td>\n",
       "      <td>454492.0</td>\n",
       "    </tr>\n",
       "    <tr>\n",
       "      <th>2</th>\n",
       "      <td>2020.01.06</td>\n",
       "      <td>180500.0</td>\n",
       "      <td>1000.0</td>\n",
       "      <td>180000.0</td>\n",
       "      <td>182000.0</td>\n",
       "      <td>178000.0</td>\n",
       "      <td>287970.0</td>\n",
       "    </tr>\n",
       "    <tr>\n",
       "      <th>3</th>\n",
       "      <td>2020.01.07</td>\n",
       "      <td>187000.0</td>\n",
       "      <td>6500.0</td>\n",
       "      <td>182500.0</td>\n",
       "      <td>187000.0</td>\n",
       "      <td>181500.0</td>\n",
       "      <td>328624.0</td>\n",
       "    </tr>\n",
       "    <tr>\n",
       "      <th>4</th>\n",
       "      <td>2020.01.08</td>\n",
       "      <td>183000.0</td>\n",
       "      <td>4000.0</td>\n",
       "      <td>182000.0</td>\n",
       "      <td>183500.0</td>\n",
       "      <td>179000.0</td>\n",
       "      <td>820867.0</td>\n",
       "    </tr>\n",
       "    <tr>\n",
       "      <th>...</th>\n",
       "      <td>...</td>\n",
       "      <td>...</td>\n",
       "      <td>...</td>\n",
       "      <td>...</td>\n",
       "      <td>...</td>\n",
       "      <td>...</td>\n",
       "      <td>...</td>\n",
       "    </tr>\n",
       "    <tr>\n",
       "      <th>240</th>\n",
       "      <td>2020.12.18</td>\n",
       "      <td>282500.0</td>\n",
       "      <td>2500.0</td>\n",
       "      <td>284000.0</td>\n",
       "      <td>285500.0</td>\n",
       "      <td>282000.0</td>\n",
       "      <td>487305.0</td>\n",
       "    </tr>\n",
       "    <tr>\n",
       "      <th>241</th>\n",
       "      <td>2020.12.21</td>\n",
       "      <td>284000.0</td>\n",
       "      <td>1500.0</td>\n",
       "      <td>284000.0</td>\n",
       "      <td>285500.0</td>\n",
       "      <td>280000.0</td>\n",
       "      <td>473545.0</td>\n",
       "    </tr>\n",
       "    <tr>\n",
       "      <th>242</th>\n",
       "      <td>2020.12.22</td>\n",
       "      <td>284000.0</td>\n",
       "      <td>0.0</td>\n",
       "      <td>285000.0</td>\n",
       "      <td>293500.0</td>\n",
       "      <td>284000.0</td>\n",
       "      <td>750095.0</td>\n",
       "    </tr>\n",
       "    <tr>\n",
       "      <th>243</th>\n",
       "      <td>2020.12.23</td>\n",
       "      <td>284000.0</td>\n",
       "      <td>0.0</td>\n",
       "      <td>288500.0</td>\n",
       "      <td>289000.0</td>\n",
       "      <td>283000.0</td>\n",
       "      <td>508019.0</td>\n",
       "    </tr>\n",
       "    <tr>\n",
       "      <th>244</th>\n",
       "      <td>2020.12.24</td>\n",
       "      <td>282000.0</td>\n",
       "      <td>2000.0</td>\n",
       "      <td>284500.0</td>\n",
       "      <td>284500.0</td>\n",
       "      <td>280000.0</td>\n",
       "      <td>452158.0</td>\n",
       "    </tr>\n",
       "  </tbody>\n",
       "</table>\n",
       "<p>245 rows × 7 columns</p>\n",
       "</div>"
      ],
      "text/plain": [
       "             날짜        종가     전일비        시가        고가        저가       거래량\n",
       "0    2020.01.02  182500.0  4000.0  187500.0  188000.0  182000.0  300640.0\n",
       "1    2020.01.03  181500.0  1000.0  185000.0  186000.0  180500.0  454492.0\n",
       "2    2020.01.06  180500.0  1000.0  180000.0  182000.0  178000.0  287970.0\n",
       "3    2020.01.07  187000.0  6500.0  182500.0  187000.0  181500.0  328624.0\n",
       "4    2020.01.08  183000.0  4000.0  182000.0  183500.0  179000.0  820867.0\n",
       "..          ...       ...     ...       ...       ...       ...       ...\n",
       "240  2020.12.18  282500.0  2500.0  284000.0  285500.0  282000.0  487305.0\n",
       "241  2020.12.21  284000.0  1500.0  284000.0  285500.0  280000.0  473545.0\n",
       "242  2020.12.22  284000.0     0.0  285000.0  293500.0  284000.0  750095.0\n",
       "243  2020.12.23  284000.0     0.0  288500.0  289000.0  283000.0  508019.0\n",
       "244  2020.12.24  282000.0  2000.0  284500.0  284500.0  280000.0  452158.0\n",
       "\n",
       "[245 rows x 7 columns]"
      ]
     },
     "execution_count": 1,
     "metadata": {},
     "output_type": "execute_result"
    }
   ],
   "source": [
    "import pandas as pd\n",
    "naver = pd.read_csv('naver.csv', encoding='euc-kr')\n",
    "naver"
   ]
  },
  {
   "cell_type": "markdown",
   "metadata": {},
   "source": [
    "## 실습 1: 평균 및 중앙값 구하기"
   ]
  },
  {
   "cell_type": "code",
   "execution_count": 2,
   "metadata": {},
   "outputs": [
    {
     "data": {
      "text/plain": [
       "245685.7142857143"
      ]
     },
     "execution_count": 2,
     "metadata": {},
     "output_type": "execute_result"
    }
   ],
   "source": [
    "from statistics import mean, median, mode\n",
    "mean(naver['종가'])"
   ]
  },
  {
   "cell_type": "code",
   "execution_count": 3,
   "metadata": {},
   "outputs": [
    {
     "data": {
      "text/plain": [
       "270000.0"
      ]
     },
     "execution_count": 3,
     "metadata": {},
     "output_type": "execute_result"
    }
   ],
   "source": [
    "median(naver['종가'])"
   ]
  },
  {
   "cell_type": "markdown",
   "metadata": {},
   "source": [
    "## 실습 2: 표준편차 및 변동 계수 구하기"
   ]
  },
  {
   "cell_type": "code",
   "execution_count": 4,
   "metadata": {},
   "outputs": [],
   "source": [
    "from statistics import mean, stdev"
   ]
  },
  {
   "cell_type": "code",
   "execution_count": 5,
   "metadata": {},
   "outputs": [
    {
     "data": {
      "text/plain": [
       "55175.47640683596"
      ]
     },
     "execution_count": 5,
     "metadata": {},
     "output_type": "execute_result"
    }
   ],
   "source": [
    "stdev(naver['종가'])  #종가의 표준편차"
   ]
  },
  {
   "cell_type": "code",
   "execution_count": 6,
   "metadata": {},
   "outputs": [
    {
     "data": {
      "text/plain": [
       "22.457747112911484"
      ]
     },
     "execution_count": 6,
     "metadata": {},
     "output_type": "execute_result"
    }
   ],
   "source": [
    "(stdev(naver['종가'])/mean(naver['종가']))*100  #종가의 변동계수"
   ]
  },
  {
   "cell_type": "markdown",
   "metadata": {},
   "source": [
    "### describe 함수 활용"
   ]
  },
  {
   "cell_type": "code",
   "execution_count": 7,
   "metadata": {
    "scrolled": true
   },
   "outputs": [
    {
     "data": {
      "text/html": [
       "<div>\n",
       "<style scoped>\n",
       "    .dataframe tbody tr th:only-of-type {\n",
       "        vertical-align: middle;\n",
       "    }\n",
       "\n",
       "    .dataframe tbody tr th {\n",
       "        vertical-align: top;\n",
       "    }\n",
       "\n",
       "    .dataframe thead th {\n",
       "        text-align: right;\n",
       "    }\n",
       "</style>\n",
       "<table border=\"1\" class=\"dataframe\">\n",
       "  <thead>\n",
       "    <tr style=\"text-align: right;\">\n",
       "      <th></th>\n",
       "      <th>종가</th>\n",
       "      <th>전일비</th>\n",
       "      <th>시가</th>\n",
       "      <th>고가</th>\n",
       "      <th>저가</th>\n",
       "      <th>거래량</th>\n",
       "    </tr>\n",
       "  </thead>\n",
       "  <tbody>\n",
       "    <tr>\n",
       "      <th>count</th>\n",
       "      <td>245.000000</td>\n",
       "      <td>245.000000</td>\n",
       "      <td>245.000000</td>\n",
       "      <td>245.000000</td>\n",
       "      <td>245.000000</td>\n",
       "      <td>2.450000e+02</td>\n",
       "    </tr>\n",
       "    <tr>\n",
       "      <th>mean</th>\n",
       "      <td>245685.714286</td>\n",
       "      <td>4487.755102</td>\n",
       "      <td>245602.040816</td>\n",
       "      <td>249683.673469</td>\n",
       "      <td>241614.285714</td>\n",
       "      <td>8.611727e+05</td>\n",
       "    </tr>\n",
       "    <tr>\n",
       "      <th>std</th>\n",
       "      <td>55175.476407</td>\n",
       "      <td>3834.679580</td>\n",
       "      <td>55537.240090</td>\n",
       "      <td>55919.941848</td>\n",
       "      <td>54757.075297</td>\n",
       "      <td>3.920407e+05</td>\n",
       "    </tr>\n",
       "    <tr>\n",
       "      <th>min</th>\n",
       "      <td>143000.000000</td>\n",
       "      <td>0.000000</td>\n",
       "      <td>141500.000000</td>\n",
       "      <td>149500.000000</td>\n",
       "      <td>135000.000000</td>\n",
       "      <td>2.451070e+05</td>\n",
       "    </tr>\n",
       "    <tr>\n",
       "      <th>25%</th>\n",
       "      <td>186500.000000</td>\n",
       "      <td>2000.000000</td>\n",
       "      <td>185000.000000</td>\n",
       "      <td>188500.000000</td>\n",
       "      <td>183500.000000</td>\n",
       "      <td>5.634630e+05</td>\n",
       "    </tr>\n",
       "    <tr>\n",
       "      <th>50%</th>\n",
       "      <td>270000.000000</td>\n",
       "      <td>3500.000000</td>\n",
       "      <td>272000.000000</td>\n",
       "      <td>275000.000000</td>\n",
       "      <td>266000.000000</td>\n",
       "      <td>8.099390e+05</td>\n",
       "    </tr>\n",
       "    <tr>\n",
       "      <th>75%</th>\n",
       "      <td>292000.000000</td>\n",
       "      <td>6500.000000</td>\n",
       "      <td>292000.000000</td>\n",
       "      <td>296500.000000</td>\n",
       "      <td>286000.000000</td>\n",
       "      <td>1.039579e+06</td>\n",
       "    </tr>\n",
       "    <tr>\n",
       "      <th>max</th>\n",
       "      <td>339000.000000</td>\n",
       "      <td>20500.000000</td>\n",
       "      <td>337000.000000</td>\n",
       "      <td>347000.000000</td>\n",
       "      <td>336500.000000</td>\n",
       "      <td>3.114298e+06</td>\n",
       "    </tr>\n",
       "  </tbody>\n",
       "</table>\n",
       "</div>"
      ],
      "text/plain": [
       "                  종가           전일비             시가             고가  \\\n",
       "count     245.000000    245.000000     245.000000     245.000000   \n",
       "mean   245685.714286   4487.755102  245602.040816  249683.673469   \n",
       "std     55175.476407   3834.679580   55537.240090   55919.941848   \n",
       "min    143000.000000      0.000000  141500.000000  149500.000000   \n",
       "25%    186500.000000   2000.000000  185000.000000  188500.000000   \n",
       "50%    270000.000000   3500.000000  272000.000000  275000.000000   \n",
       "75%    292000.000000   6500.000000  292000.000000  296500.000000   \n",
       "max    339000.000000  20500.000000  337000.000000  347000.000000   \n",
       "\n",
       "                  저가           거래량  \n",
       "count     245.000000  2.450000e+02  \n",
       "mean   241614.285714  8.611727e+05  \n",
       "std     54757.075297  3.920407e+05  \n",
       "min    135000.000000  2.451070e+05  \n",
       "25%    183500.000000  5.634630e+05  \n",
       "50%    266000.000000  8.099390e+05  \n",
       "75%    286000.000000  1.039579e+06  \n",
       "max    336500.000000  3.114298e+06  "
      ]
     },
     "execution_count": 7,
     "metadata": {},
     "output_type": "execute_result"
    }
   ],
   "source": [
    "naver.describe()"
   ]
  },
  {
   "cell_type": "markdown",
   "metadata": {},
   "source": [
    "## 실습 3: 시가와 종가의 공분산 및 상관계수"
   ]
  },
  {
   "cell_type": "code",
   "execution_count": 8,
   "metadata": {},
   "outputs": [
    {
     "data": {
      "text/html": [
       "<div>\n",
       "<style scoped>\n",
       "    .dataframe tbody tr th:only-of-type {\n",
       "        vertical-align: middle;\n",
       "    }\n",
       "\n",
       "    .dataframe tbody tr th {\n",
       "        vertical-align: top;\n",
       "    }\n",
       "\n",
       "    .dataframe thead th {\n",
       "        text-align: right;\n",
       "    }\n",
       "</style>\n",
       "<table border=\"1\" class=\"dataframe\">\n",
       "  <thead>\n",
       "    <tr style=\"text-align: right;\">\n",
       "      <th></th>\n",
       "      <th>종가</th>\n",
       "      <th>시가</th>\n",
       "    </tr>\n",
       "  </thead>\n",
       "  <tbody>\n",
       "    <tr>\n",
       "      <th>종가</th>\n",
       "      <td>3.044333e+09</td>\n",
       "      <td>3.049993e+09</td>\n",
       "    </tr>\n",
       "    <tr>\n",
       "      <th>시가</th>\n",
       "      <td>3.049993e+09</td>\n",
       "      <td>3.084385e+09</td>\n",
       "    </tr>\n",
       "  </tbody>\n",
       "</table>\n",
       "</div>"
      ],
      "text/plain": [
       "              종가            시가\n",
       "종가  3.044333e+09  3.049993e+09\n",
       "시가  3.049993e+09  3.084385e+09"
      ]
     },
     "execution_count": 8,
     "metadata": {},
     "output_type": "execute_result"
    }
   ],
   "source": [
    "#시가, 종가의 공분산\n",
    "naver.cov().iloc[[0,2],[0,2]]  #0번째, 2번째 행/열 인덱싱"
   ]
  },
  {
   "cell_type": "code",
   "execution_count": 9,
   "metadata": {},
   "outputs": [
    {
     "data": {
      "text/plain": [
       "0.99533321058834"
      ]
     },
     "execution_count": 9,
     "metadata": {},
     "output_type": "execute_result"
    }
   ],
   "source": [
    "#시가와 종일가의 상관계수\n",
    "x = naver['시가']\n",
    "y = naver['종가']\n",
    "x.corr(y)  # Pearson correlation"
   ]
  },
  {
   "cell_type": "code",
   "execution_count": null,
   "metadata": {},
   "outputs": [],
   "source": []
  }
 ],
 "metadata": {
  "kernelspec": {
   "display_name": "Python 3",
   "language": "python",
   "name": "python3"
  },
  "language_info": {
   "codemirror_mode": {
    "name": "ipython",
    "version": 3
   },
   "file_extension": ".py",
   "mimetype": "text/x-python",
   "name": "python",
   "nbconvert_exporter": "python",
   "pygments_lexer": "ipython3",
   "version": "3.7.6"
  }
 },
 "nbformat": 4,
 "nbformat_minor": 4
}
